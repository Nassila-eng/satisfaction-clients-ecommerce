{
 "cells": [
  {
   "cell_type": "code",
   "execution_count": 11,
   "id": "67e7021d-8bfa-4abb-920c-7f37ee2341c7",
   "metadata": {},
   "outputs": [
    {
     "data": {
      "text/html": [
       "<div>\n",
       "<style scoped>\n",
       "    .dataframe tbody tr th:only-of-type {\n",
       "        vertical-align: middle;\n",
       "    }\n",
       "\n",
       "    .dataframe tbody tr th {\n",
       "        vertical-align: top;\n",
       "    }\n",
       "\n",
       "    .dataframe thead th {\n",
       "        text-align: right;\n",
       "    }\n",
       "</style>\n",
       "<table border=\"1\" class=\"dataframe\">\n",
       "  <thead>\n",
       "    <tr style=\"text-align: right;\">\n",
       "      <th></th>\n",
       "      <th>ID_Commande</th>\n",
       "      <th>Date_Commande</th>\n",
       "      <th>Produit</th>\n",
       "      <th>Catégorie</th>\n",
       "      <th>Prix_unitaire</th>\n",
       "      <th>Quantité</th>\n",
       "      <th>Date_Livraison</th>\n",
       "      <th>Statut_Livraison</th>\n",
       "      <th>Note_Client</th>\n",
       "      <th>Commentaire_Client</th>\n",
       "    </tr>\n",
       "  </thead>\n",
       "  <tbody>\n",
       "    <tr>\n",
       "      <th>0</th>\n",
       "      <td>C001</td>\n",
       "      <td>2024-02-18</td>\n",
       "      <td>Chaussures</td>\n",
       "      <td>Mode</td>\n",
       "      <td>9233</td>\n",
       "      <td>1</td>\n",
       "      <td>2024-02-24</td>\n",
       "      <td>En retard</td>\n",
       "      <td>4</td>\n",
       "      <td>Excellent service</td>\n",
       "    </tr>\n",
       "    <tr>\n",
       "      <th>1</th>\n",
       "      <td>C002</td>\n",
       "      <td>2024-01-07</td>\n",
       "      <td>Chaussures</td>\n",
       "      <td>Mode</td>\n",
       "      <td>1864</td>\n",
       "      <td>1</td>\n",
       "      <td>2024-01-11</td>\n",
       "      <td>Livré</td>\n",
       "      <td>3</td>\n",
       "      <td>Excellent service</td>\n",
       "    </tr>\n",
       "    <tr>\n",
       "      <th>2</th>\n",
       "      <td>C003</td>\n",
       "      <td>2024-01-07</td>\n",
       "      <td>Batterie</td>\n",
       "      <td>Électronique</td>\n",
       "      <td>5920</td>\n",
       "      <td>3</td>\n",
       "      <td>2024-01-13</td>\n",
       "      <td>En retard</td>\n",
       "      <td>2</td>\n",
       "      <td>Excellent service</td>\n",
       "    </tr>\n",
       "    <tr>\n",
       "      <th>3</th>\n",
       "      <td>C004</td>\n",
       "      <td>2024-01-03</td>\n",
       "      <td>Smartphone</td>\n",
       "      <td>Électronique</td>\n",
       "      <td>2468</td>\n",
       "      <td>1</td>\n",
       "      <td>2024-01-08</td>\n",
       "      <td>Livré</td>\n",
       "      <td>2</td>\n",
       "      <td>Mauvais produit</td>\n",
       "    </tr>\n",
       "    <tr>\n",
       "      <th>4</th>\n",
       "      <td>C005</td>\n",
       "      <td>2024-02-13</td>\n",
       "      <td>Montre</td>\n",
       "      <td>Mode</td>\n",
       "      <td>7304</td>\n",
       "      <td>4</td>\n",
       "      <td>2024-02-15</td>\n",
       "      <td>Livré</td>\n",
       "      <td>5</td>\n",
       "      <td>Mauvais produit</td>\n",
       "    </tr>\n",
       "  </tbody>\n",
       "</table>\n",
       "</div>"
      ],
      "text/plain": [
       "  ID_Commande Date_Commande     Produit     Catégorie  Prix_unitaire  \\\n",
       "0        C001    2024-02-18  Chaussures          Mode           9233   \n",
       "1        C002    2024-01-07  Chaussures          Mode           1864   \n",
       "2        C003    2024-01-07    Batterie  Électronique           5920   \n",
       "3        C004    2024-01-03  Smartphone  Électronique           2468   \n",
       "4        C005    2024-02-13      Montre          Mode           7304   \n",
       "\n",
       "   Quantité Date_Livraison Statut_Livraison  Note_Client Commentaire_Client  \n",
       "0         1     2024-02-24        En retard            4  Excellent service  \n",
       "1         1     2024-01-11            Livré            3  Excellent service  \n",
       "2         3     2024-01-13        En retard            2  Excellent service  \n",
       "3         1     2024-01-08            Livré            2    Mauvais produit  \n",
       "4         4     2024-02-15            Livré            5    Mauvais produit  "
      ]
     },
     "execution_count": 11,
     "metadata": {},
     "output_type": "execute_result"
    }
   ],
   "source": [
    "import pandas as pd\n",
    "df = pd.read_excel(\"base_satisfaction_clients.xlsx\")\n",
    "df.head()"
   ]
  },
  {
   "cell_type": "code",
   "execution_count": 12,
   "id": "777e09f8-f412-4a03-a87e-3fa5a432fe1a",
   "metadata": {},
   "outputs": [
    {
     "name": "stdout",
     "output_type": "stream",
     "text": [
      "<class 'pandas.core.frame.DataFrame'>\n",
      "RangeIndex: 50 entries, 0 to 49\n",
      "Data columns (total 10 columns):\n",
      " #   Column              Non-Null Count  Dtype         \n",
      "---  ------              --------------  -----         \n",
      " 0   ID_Commande         50 non-null     object        \n",
      " 1   Date_Commande       50 non-null     datetime64[ns]\n",
      " 2   Produit             50 non-null     object        \n",
      " 3   Catégorie           50 non-null     object        \n",
      " 4   Prix_unitaire       50 non-null     int64         \n",
      " 5   Quantité            50 non-null     int64         \n",
      " 6   Date_Livraison      50 non-null     datetime64[ns]\n",
      " 7   Statut_Livraison    50 non-null     object        \n",
      " 8   Note_Client         50 non-null     int64         \n",
      " 9   Commentaire_Client  50 non-null     object        \n",
      "dtypes: datetime64[ns](2), int64(3), object(5)\n",
      "memory usage: 4.0+ KB\n"
     ]
    }
   ],
   "source": [
    "df.info()"
   ]
  },
  {
   "cell_type": "code",
   "execution_count": 13,
   "id": "bff67f52-5065-4864-9d44-5eb1940c3ff7",
   "metadata": {},
   "outputs": [
    {
     "data": {
      "text/plain": [
       "ID_Commande           0\n",
       "Date_Commande         0\n",
       "Produit               0\n",
       "Catégorie             0\n",
       "Prix_unitaire         0\n",
       "Quantité              0\n",
       "Date_Livraison        0\n",
       "Statut_Livraison      0\n",
       "Note_Client           0\n",
       "Commentaire_Client    0\n",
       "dtype: int64"
      ]
     },
     "execution_count": 13,
     "metadata": {},
     "output_type": "execute_result"
    }
   ],
   "source": [
    "df.isnull().sum()"
   ]
  },
  {
   "cell_type": "code",
   "execution_count": 14,
   "id": "419f00ef-03a3-48c5-b910-c09979614def",
   "metadata": {},
   "outputs": [
    {
     "data": {
      "text/plain": [
       "ID_Commande                   object\n",
       "Date_Commande         datetime64[ns]\n",
       "Produit                       object\n",
       "Catégorie                     object\n",
       "Prix_unitaire                  int64\n",
       "Quantité                       int64\n",
       "Date_Livraison        datetime64[ns]\n",
       "Statut_Livraison              object\n",
       "Note_Client                    int64\n",
       "Commentaire_Client            object\n",
       "dtype: object"
      ]
     },
     "execution_count": 14,
     "metadata": {},
     "output_type": "execute_result"
    }
   ],
   "source": [
    "df.dtypes"
   ]
  },
  {
   "cell_type": "code",
   "execution_count": 15,
   "id": "13520208-4a98-4576-955f-b1881a5bc029",
   "metadata": {},
   "outputs": [],
   "source": [
    "df.drop_duplicates(inplace=True)"
   ]
  },
  {
   "cell_type": "code",
   "execution_count": 19,
   "id": "6d858f67-a3c5-4d44-ad67-35c26dc9e38e",
   "metadata": {},
   "outputs": [
    {
     "data": {
      "text/html": [
       "<div>\n",
       "<style scoped>\n",
       "    .dataframe tbody tr th:only-of-type {\n",
       "        vertical-align: middle;\n",
       "    }\n",
       "\n",
       "    .dataframe tbody tr th {\n",
       "        vertical-align: top;\n",
       "    }\n",
       "\n",
       "    .dataframe thead th {\n",
       "        text-align: right;\n",
       "    }\n",
       "</style>\n",
       "<table border=\"1\" class=\"dataframe\">\n",
       "  <thead>\n",
       "    <tr style=\"text-align: right;\">\n",
       "      <th></th>\n",
       "      <th>ID_Commande</th>\n",
       "      <th>Date_Commande</th>\n",
       "      <th>Produit</th>\n",
       "      <th>Catégorie</th>\n",
       "      <th>Prix_unitaire</th>\n",
       "      <th>Quantité</th>\n",
       "      <th>Date_Livraison</th>\n",
       "      <th>Statut_Livraison</th>\n",
       "      <th>Note_Client</th>\n",
       "      <th>Commentaire_Client</th>\n",
       "    </tr>\n",
       "  </thead>\n",
       "  <tbody>\n",
       "    <tr>\n",
       "      <th>0</th>\n",
       "      <td>C001</td>\n",
       "      <td>2024-02-18</td>\n",
       "      <td>Chaussures</td>\n",
       "      <td>Mode</td>\n",
       "      <td>9233</td>\n",
       "      <td>1</td>\n",
       "      <td>2024-02-24</td>\n",
       "      <td>En retard</td>\n",
       "      <td>4</td>\n",
       "      <td>Excellent service</td>\n",
       "    </tr>\n",
       "    <tr>\n",
       "      <th>1</th>\n",
       "      <td>C002</td>\n",
       "      <td>2024-01-07</td>\n",
       "      <td>Chaussures</td>\n",
       "      <td>Mode</td>\n",
       "      <td>1864</td>\n",
       "      <td>1</td>\n",
       "      <td>2024-01-11</td>\n",
       "      <td>Livré</td>\n",
       "      <td>3</td>\n",
       "      <td>Excellent service</td>\n",
       "    </tr>\n",
       "    <tr>\n",
       "      <th>2</th>\n",
       "      <td>C003</td>\n",
       "      <td>2024-01-07</td>\n",
       "      <td>Batterie</td>\n",
       "      <td>Électronique</td>\n",
       "      <td>5920</td>\n",
       "      <td>3</td>\n",
       "      <td>2024-01-13</td>\n",
       "      <td>En retard</td>\n",
       "      <td>2</td>\n",
       "      <td>Excellent service</td>\n",
       "    </tr>\n",
       "    <tr>\n",
       "      <th>3</th>\n",
       "      <td>C004</td>\n",
       "      <td>2024-01-03</td>\n",
       "      <td>Smartphone</td>\n",
       "      <td>Électronique</td>\n",
       "      <td>2468</td>\n",
       "      <td>1</td>\n",
       "      <td>2024-01-08</td>\n",
       "      <td>Livré</td>\n",
       "      <td>2</td>\n",
       "      <td>Mauvais produit</td>\n",
       "    </tr>\n",
       "    <tr>\n",
       "      <th>4</th>\n",
       "      <td>C005</td>\n",
       "      <td>2024-02-13</td>\n",
       "      <td>Montre</td>\n",
       "      <td>Mode</td>\n",
       "      <td>7304</td>\n",
       "      <td>4</td>\n",
       "      <td>2024-02-15</td>\n",
       "      <td>Livré</td>\n",
       "      <td>5</td>\n",
       "      <td>Mauvais produit</td>\n",
       "    </tr>\n",
       "  </tbody>\n",
       "</table>\n",
       "</div>"
      ],
      "text/plain": [
       "  ID_Commande Date_Commande     Produit     Catégorie  Prix_unitaire  \\\n",
       "0        C001    2024-02-18  Chaussures          Mode           9233   \n",
       "1        C002    2024-01-07  Chaussures          Mode           1864   \n",
       "2        C003    2024-01-07    Batterie  Électronique           5920   \n",
       "3        C004    2024-01-03  Smartphone  Électronique           2468   \n",
       "4        C005    2024-02-13      Montre          Mode           7304   \n",
       "\n",
       "   Quantité Date_Livraison Statut_Livraison  Note_Client Commentaire_Client  \n",
       "0         1     2024-02-24        En retard            4  Excellent service  \n",
       "1         1     2024-01-11            Livré            3  Excellent service  \n",
       "2         3     2024-01-13        En retard            2  Excellent service  \n",
       "3         1     2024-01-08            Livré            2    Mauvais produit  \n",
       "4         4     2024-02-15            Livré            5    Mauvais produit  "
      ]
     },
     "execution_count": 19,
     "metadata": {},
     "output_type": "execute_result"
    }
   ],
   "source": [
    "df[\"Date_Commande\"] = pd.to_datetime(df[\"Date_Commande\"])\n",
    "df.head()"
   ]
  },
  {
   "cell_type": "code",
   "execution_count": 20,
   "id": "1aa3864f-6728-43d7-ac9c-d758be4a8b19",
   "metadata": {},
   "outputs": [],
   "source": [
    "df[\"Date_Livraison\"] = pd.to_datetime(df[\"Date_Livraison\"])"
   ]
  },
  {
   "cell_type": "code",
   "execution_count": 23,
   "id": "36502713-c281-4cf1-8ecf-6b9b27730a39",
   "metadata": {},
   "outputs": [
    {
     "data": {
      "text/html": [
       "<div>\n",
       "<style scoped>\n",
       "    .dataframe tbody tr th:only-of-type {\n",
       "        vertical-align: middle;\n",
       "    }\n",
       "\n",
       "    .dataframe tbody tr th {\n",
       "        vertical-align: top;\n",
       "    }\n",
       "\n",
       "    .dataframe thead th {\n",
       "        text-align: right;\n",
       "    }\n",
       "</style>\n",
       "<table border=\"1\" class=\"dataframe\">\n",
       "  <thead>\n",
       "    <tr style=\"text-align: right;\">\n",
       "      <th></th>\n",
       "      <th>ID_Commande</th>\n",
       "      <th>Date_Commande</th>\n",
       "      <th>Produit</th>\n",
       "      <th>Catégorie</th>\n",
       "      <th>Prix_unitaire</th>\n",
       "      <th>Quantité</th>\n",
       "      <th>Date_Livraison</th>\n",
       "      <th>Statut_Livraison</th>\n",
       "      <th>Note_Client</th>\n",
       "      <th>Commentaire_Client</th>\n",
       "      <th>Délai_Livraison</th>\n",
       "    </tr>\n",
       "  </thead>\n",
       "  <tbody>\n",
       "    <tr>\n",
       "      <th>0</th>\n",
       "      <td>C001</td>\n",
       "      <td>2024-02-18</td>\n",
       "      <td>Chaussures</td>\n",
       "      <td>Mode</td>\n",
       "      <td>9233</td>\n",
       "      <td>1</td>\n",
       "      <td>2024-02-24</td>\n",
       "      <td>En retard</td>\n",
       "      <td>4</td>\n",
       "      <td>Excellent service</td>\n",
       "      <td>6</td>\n",
       "    </tr>\n",
       "    <tr>\n",
       "      <th>1</th>\n",
       "      <td>C002</td>\n",
       "      <td>2024-01-07</td>\n",
       "      <td>Chaussures</td>\n",
       "      <td>Mode</td>\n",
       "      <td>1864</td>\n",
       "      <td>1</td>\n",
       "      <td>2024-01-11</td>\n",
       "      <td>Livré</td>\n",
       "      <td>3</td>\n",
       "      <td>Excellent service</td>\n",
       "      <td>4</td>\n",
       "    </tr>\n",
       "    <tr>\n",
       "      <th>2</th>\n",
       "      <td>C003</td>\n",
       "      <td>2024-01-07</td>\n",
       "      <td>Batterie</td>\n",
       "      <td>Électronique</td>\n",
       "      <td>5920</td>\n",
       "      <td>3</td>\n",
       "      <td>2024-01-13</td>\n",
       "      <td>En retard</td>\n",
       "      <td>2</td>\n",
       "      <td>Excellent service</td>\n",
       "      <td>6</td>\n",
       "    </tr>\n",
       "    <tr>\n",
       "      <th>3</th>\n",
       "      <td>C004</td>\n",
       "      <td>2024-01-03</td>\n",
       "      <td>Smartphone</td>\n",
       "      <td>Électronique</td>\n",
       "      <td>2468</td>\n",
       "      <td>1</td>\n",
       "      <td>2024-01-08</td>\n",
       "      <td>Livré</td>\n",
       "      <td>2</td>\n",
       "      <td>Mauvais produit</td>\n",
       "      <td>5</td>\n",
       "    </tr>\n",
       "    <tr>\n",
       "      <th>4</th>\n",
       "      <td>C005</td>\n",
       "      <td>2024-02-13</td>\n",
       "      <td>Montre</td>\n",
       "      <td>Mode</td>\n",
       "      <td>7304</td>\n",
       "      <td>4</td>\n",
       "      <td>2024-02-15</td>\n",
       "      <td>Livré</td>\n",
       "      <td>5</td>\n",
       "      <td>Mauvais produit</td>\n",
       "      <td>2</td>\n",
       "    </tr>\n",
       "  </tbody>\n",
       "</table>\n",
       "</div>"
      ],
      "text/plain": [
       "  ID_Commande Date_Commande     Produit     Catégorie  Prix_unitaire  \\\n",
       "0        C001    2024-02-18  Chaussures          Mode           9233   \n",
       "1        C002    2024-01-07  Chaussures          Mode           1864   \n",
       "2        C003    2024-01-07    Batterie  Électronique           5920   \n",
       "3        C004    2024-01-03  Smartphone  Électronique           2468   \n",
       "4        C005    2024-02-13      Montre          Mode           7304   \n",
       "\n",
       "   Quantité Date_Livraison Statut_Livraison  Note_Client Commentaire_Client  \\\n",
       "0         1     2024-02-24        En retard            4  Excellent service   \n",
       "1         1     2024-01-11            Livré            3  Excellent service   \n",
       "2         3     2024-01-13        En retard            2  Excellent service   \n",
       "3         1     2024-01-08            Livré            2    Mauvais produit   \n",
       "4         4     2024-02-15            Livré            5    Mauvais produit   \n",
       "\n",
       "   Délai_Livraison  \n",
       "0                6  \n",
       "1                4  \n",
       "2                6  \n",
       "3                5  \n",
       "4                2  "
      ]
     },
     "execution_count": 23,
     "metadata": {},
     "output_type": "execute_result"
    }
   ],
   "source": [
    "df[\"Délai_Livraison\"] = (df[\"Date_Livraison\"] - df[\"Date_Commande\"]).dt.days\n",
    "df.head()"
   ]
  },
  {
   "cell_type": "code",
   "execution_count": 24,
   "id": "30cf5206-f076-4646-a8f5-2cd44328a860",
   "metadata": {},
   "outputs": [
    {
     "data": {
      "text/html": [
       "<div>\n",
       "<style scoped>\n",
       "    .dataframe tbody tr th:only-of-type {\n",
       "        vertical-align: middle;\n",
       "    }\n",
       "\n",
       "    .dataframe tbody tr th {\n",
       "        vertical-align: top;\n",
       "    }\n",
       "\n",
       "    .dataframe thead th {\n",
       "        text-align: right;\n",
       "    }\n",
       "</style>\n",
       "<table border=\"1\" class=\"dataframe\">\n",
       "  <thead>\n",
       "    <tr style=\"text-align: right;\">\n",
       "      <th></th>\n",
       "      <th>ID_Commande</th>\n",
       "      <th>Date_Commande</th>\n",
       "      <th>Produit</th>\n",
       "      <th>Catégorie</th>\n",
       "      <th>Prix_unitaire</th>\n",
       "      <th>Quantité</th>\n",
       "      <th>Date_Livraison</th>\n",
       "      <th>Statut_Livraison</th>\n",
       "      <th>Note_Client</th>\n",
       "      <th>Commentaire_Client</th>\n",
       "      <th>Délai_Livraison</th>\n",
       "      <th>Vente_Total</th>\n",
       "    </tr>\n",
       "  </thead>\n",
       "  <tbody>\n",
       "    <tr>\n",
       "      <th>0</th>\n",
       "      <td>C001</td>\n",
       "      <td>2024-02-18</td>\n",
       "      <td>Chaussures</td>\n",
       "      <td>Mode</td>\n",
       "      <td>9233</td>\n",
       "      <td>1</td>\n",
       "      <td>2024-02-24</td>\n",
       "      <td>En retard</td>\n",
       "      <td>4</td>\n",
       "      <td>Excellent service</td>\n",
       "      <td>6</td>\n",
       "      <td>9233</td>\n",
       "    </tr>\n",
       "    <tr>\n",
       "      <th>1</th>\n",
       "      <td>C002</td>\n",
       "      <td>2024-01-07</td>\n",
       "      <td>Chaussures</td>\n",
       "      <td>Mode</td>\n",
       "      <td>1864</td>\n",
       "      <td>1</td>\n",
       "      <td>2024-01-11</td>\n",
       "      <td>Livré</td>\n",
       "      <td>3</td>\n",
       "      <td>Excellent service</td>\n",
       "      <td>4</td>\n",
       "      <td>1864</td>\n",
       "    </tr>\n",
       "    <tr>\n",
       "      <th>2</th>\n",
       "      <td>C003</td>\n",
       "      <td>2024-01-07</td>\n",
       "      <td>Batterie</td>\n",
       "      <td>Électronique</td>\n",
       "      <td>5920</td>\n",
       "      <td>3</td>\n",
       "      <td>2024-01-13</td>\n",
       "      <td>En retard</td>\n",
       "      <td>2</td>\n",
       "      <td>Excellent service</td>\n",
       "      <td>6</td>\n",
       "      <td>17760</td>\n",
       "    </tr>\n",
       "    <tr>\n",
       "      <th>3</th>\n",
       "      <td>C004</td>\n",
       "      <td>2024-01-03</td>\n",
       "      <td>Smartphone</td>\n",
       "      <td>Électronique</td>\n",
       "      <td>2468</td>\n",
       "      <td>1</td>\n",
       "      <td>2024-01-08</td>\n",
       "      <td>Livré</td>\n",
       "      <td>2</td>\n",
       "      <td>Mauvais produit</td>\n",
       "      <td>5</td>\n",
       "      <td>2468</td>\n",
       "    </tr>\n",
       "    <tr>\n",
       "      <th>4</th>\n",
       "      <td>C005</td>\n",
       "      <td>2024-02-13</td>\n",
       "      <td>Montre</td>\n",
       "      <td>Mode</td>\n",
       "      <td>7304</td>\n",
       "      <td>4</td>\n",
       "      <td>2024-02-15</td>\n",
       "      <td>Livré</td>\n",
       "      <td>5</td>\n",
       "      <td>Mauvais produit</td>\n",
       "      <td>2</td>\n",
       "      <td>29216</td>\n",
       "    </tr>\n",
       "  </tbody>\n",
       "</table>\n",
       "</div>"
      ],
      "text/plain": [
       "  ID_Commande Date_Commande     Produit     Catégorie  Prix_unitaire  \\\n",
       "0        C001    2024-02-18  Chaussures          Mode           9233   \n",
       "1        C002    2024-01-07  Chaussures          Mode           1864   \n",
       "2        C003    2024-01-07    Batterie  Électronique           5920   \n",
       "3        C004    2024-01-03  Smartphone  Électronique           2468   \n",
       "4        C005    2024-02-13      Montre          Mode           7304   \n",
       "\n",
       "   Quantité Date_Livraison Statut_Livraison  Note_Client Commentaire_Client  \\\n",
       "0         1     2024-02-24        En retard            4  Excellent service   \n",
       "1         1     2024-01-11            Livré            3  Excellent service   \n",
       "2         3     2024-01-13        En retard            2  Excellent service   \n",
       "3         1     2024-01-08            Livré            2    Mauvais produit   \n",
       "4         4     2024-02-15            Livré            5    Mauvais produit   \n",
       "\n",
       "   Délai_Livraison  Vente_Total  \n",
       "0                6         9233  \n",
       "1                4         1864  \n",
       "2                6        17760  \n",
       "3                5         2468  \n",
       "4                2        29216  "
      ]
     },
     "execution_count": 24,
     "metadata": {},
     "output_type": "execute_result"
    }
   ],
   "source": [
    "df[\"Vente_Total\"] = df[\"Prix_unitaire\"] * df[\"Quantité\"]\n",
    "df.head()"
   ]
  },
  {
   "cell_type": "code",
   "execution_count": 26,
   "id": "24253e56-57ca-44bd-a018-aa5f4e6fa3a1",
   "metadata": {},
   "outputs": [
    {
     "name": "stdout",
     "output_type": "stream",
     "text": [
      "Chiffre d'affaires total : 691127.00 DA\n"
     ]
    }
   ],
   "source": [
    "chiffre_affaires_total = df[\"Vente_Total\"].sum()\n",
    "print(f\"Chiffre d'affaires total : {chiffre_affaires_total:.2f} DA\")\n"
   ]
  },
  {
   "cell_type": "code",
   "execution_count": 27,
   "id": "c9e4aed7-e318-407f-88df-81a0f25901c4",
   "metadata": {},
   "outputs": [
    {
     "name": "stdout",
     "output_type": "stream",
     "text": [
      "Produit\n",
      "Ordinateur    18\n",
      "Sac           18\n",
      "Livre         17\n",
      "T-shirt       15\n",
      "Montre        12\n",
      "Batterie      11\n",
      "Lampe         11\n",
      "Chaussures    10\n",
      "Casque         7\n",
      "Smartphone     6\n",
      "Name: Quantité, dtype: int64\n"
     ]
    }
   ],
   "source": [
    "produits_plus_vendus = df.groupby(\"Produit\")[\"Quantité\"].sum().sort_values(ascending=False)\n",
    "print(produits_plus_vendus)\n"
   ]
  },
  {
   "cell_type": "code",
   "execution_count": 28,
   "id": "bc585a0f-5c56-4a7b-aee4-03ccffdeafce",
   "metadata": {},
   "outputs": [
    {
     "name": "stdout",
     "output_type": "stream",
     "text": [
      "Produit le plus vendu : Ordinateur (18 unités)\n"
     ]
    }
   ],
   "source": [
    "produit_top = produits_plus_vendus.idxmax()\n",
    "quantite_top = produits_plus_vendus.max()\n",
    "print(f\"Produit le plus vendu : {produit_top} ({quantite_top} unités)\")\n"
   ]
  },
  {
   "cell_type": "code",
   "execution_count": 32,
   "id": "93699ad4-e379-42a2-9233-10dfe5d07768",
   "metadata": {},
   "outputs": [
    {
     "name": "stdout",
     "output_type": "stream",
     "text": [
      "Produit\n",
      "Lampe         4.000000\n",
      "Sac           3.428571\n",
      "Chaussures    3.166667\n",
      "Ordinateur    2.833333\n",
      "Smartphone    2.750000\n",
      "Montre        2.250000\n",
      "Batterie      2.200000\n",
      "Livre         2.166667\n",
      "T-shirt       1.800000\n",
      "Casque        1.666667\n",
      "Name: Note_Client, dtype: float64\n"
     ]
    }
   ],
   "source": [
    "moy_satisfaction_produit = df.groupby(\"Produit\")[\"Note_Client\"].mean().sort_values(ascending=False)\n",
    "print(moy_satisfaction_produit)\n"
   ]
  },
  {
   "cell_type": "code",
   "execution_count": 33,
   "id": "7db10af4-407b-4d66-890f-e1092ab15919",
   "metadata": {},
   "outputs": [
    {
     "name": "stdout",
     "output_type": "stream",
     "text": [
      "Catégorie\n",
      "Maison          4.000000\n",
      "Mode            2.772727\n",
      "Électronique    2.444444\n",
      "Culture         2.166667\n",
      "Name: Note_Client, dtype: float64\n"
     ]
    }
   ],
   "source": [
    "moy_satisfaction_categorie = df.groupby(\"Catégorie\")[\"Note_Client\"].mean().sort_values(ascending=False)\n",
    "print(moy_satisfaction_categorie)\n"
   ]
  },
  {
   "cell_type": "code",
   "execution_count": 34,
   "id": "ab0c8d35-61c8-4887-b2be-e2b19b543db8",
   "metadata": {},
   "outputs": [
    {
     "name": "stdout",
     "output_type": "stream",
     "text": [
      "Note_Client\n",
      "1    14\n",
      "2    12\n",
      "3     8\n",
      "4     8\n",
      "5     8\n",
      "Name: count, dtype: int64\n"
     ]
    }
   ],
   "source": [
    "repartition_notes = df[\"Note_Client\"].value_counts().sort_index()\n",
    "print(repartition_notes)\n"
   ]
  },
  {
   "cell_type": "code",
   "execution_count": 38,
   "id": "e09a2ccd-c06f-4cc8-a087-719b35cef952",
   "metadata": {},
   "outputs": [
    {
     "name": "stdout",
     "output_type": "stream",
     "text": [
      "Statut_Livraison\n",
      "Livré        31\n",
      "En retard    19\n",
      "Name: count, dtype: int64\n",
      "Part des livraisons en retard : 38.00%\n",
      "Part des livraisons Livré : 62.00%\n"
     ]
    }
   ],
   "source": [
    "repartition_statut = df[\"Statut_Livraison\"].value_counts()\n",
    "print(repartition_statut)\n",
    "pourcentage_retard = (repartition_statut[\"En retard\"] / len(df)) * 100\n",
    "print(f\"Part des livraisons en retard : {pourcentage_retard:.2f}%\")\n",
    "pourcentage_retard = (repartition_statut[\"Livré\"] / len(df)) * 100\n",
    "print(f\"Part des livraisons Livré : {pourcentage_retard:.2f}%\")\n"
   ]
  },
  {
   "cell_type": "code",
   "execution_count": 40,
   "id": "27352c4a-3aad-4237-b6aa-bf807a7d3e69",
   "metadata": {},
   "outputs": [],
   "source": [
    "import pandas as pd\n",
    "df = pd.read_excel(\"base_satisfaction_clients_avec_retours.xlsx\")\n"
   ]
  },
  {
   "cell_type": "code",
   "execution_count": 41,
   "id": "a4068ce5-8f9d-44e4-b481-281a0157e6ce",
   "metadata": {},
   "outputs": [
    {
     "name": "stdout",
     "output_type": "stream",
     "text": [
      "Produit\n",
      "Lampe         2\n",
      "Montre        2\n",
      "Smartphone    2\n",
      "Casque        1\n",
      "Name: Retourné, dtype: int64\n"
     ]
    }
   ],
   "source": [
    "retours_par_produit = df[df[\"Retourné\"] == \"Oui\"].groupby(\"Produit\")[\"Retourné\"].count().sort_values(ascending=False)\n",
    "print(retours_par_produit)\n"
   ]
  },
  {
   "cell_type": "code",
   "execution_count": 42,
   "id": "46a506c3-8dcd-46d6-ae06-917b8695ec7d",
   "metadata": {},
   "outputs": [],
   "source": [
    "import matplotlib.pyplot as plt\n",
    "import seaborn as sns\n"
   ]
  },
  {
   "cell_type": "code",
   "execution_count": 50,
   "id": "ac14c9f9-cad8-405a-895d-e04bf59f6336",
   "metadata": {},
   "outputs": [
    {
     "name": "stderr",
     "output_type": "stream",
     "text": [
      "C:\\Users\\HP\\AppData\\Local\\Temp\\ipykernel_10200\\3199386891.py:2: FutureWarning: \n",
      "\n",
      "Passing `palette` without assigning `hue` is deprecated and will be removed in v0.14.0. Assign the `x` variable to `hue` and set `legend=False` for the same effect.\n",
      "\n",
      "  sns.countplot(x=\"Note_Client\", data=df, palette=\"Blues\")\n"
     ]
    },
    {
     "data": {
      "image/png": "[encoded data removed]",
      "text/plain": [
       "<Figure size 600x400 with 1 Axes>"
      ]
     },
     "metadata": {},
     "output_type": "display_data"
    }
   ],
   "source": [
    "plt.figure(figsize=(6,4))\n",
    "sns.countplot(x=\"Note_Client\", data=df, palette=\"Blues\")\n",
    "plt.title(\"Répartition des notes clients\")\n",
    "plt.xlabel(\"Note\")\n",
    "plt.ylabel(\"Nombre de clients\")\n",
    "plt.show()\n"
   ]
  },
  {
   "cell_type": "code",
   "execution_count": 54,
   "id": "3931e942-5858-45ed-835d-f80565126455",
   "metadata": {},
   "outputs": [
    {
     "data": {
      "image/png": "[encoded data removed]",
      "text/plain": [
       "<Figure size 800x500 with 1 Axes>"
      ]
     },
     "metadata": {},
     "output_type": "display_data"
    }
   ],
   "source": [
    "moy_notes = df.groupby(\"Produit\")[\"Note_Client\"].mean().sort_values()\n",
    "\n",
    "plt.figure(figsize=(8,5))\n",
    "moy_notes.plot(kind=\"barh\", color=\"skyblue\")\n",
    "plt.title(\"Satisfaction moyenne par produit\")\n",
    "plt.xlabel(\"Note moyenne\")\n",
    "plt.ylabel(\"Produit\")\n",
    "plt.show()\n"
   ]
  },
  {
   "cell_type": "code",
   "execution_count": 46,
   "id": "6d5c0376-1850-4b41-be85-a7189fb34e25",
   "metadata": {},
   "outputs": [
    {
     "data": {
      "image/png": "[encoded data removed]",
      "text/plain": [
       "<Figure size 1000x500 with 1 Axes>"
      ]
     },
     "metadata": {},
     "output_type": "display_data"
    }
   ],
   "source": [
    "df[\"Semaine\"] = pd.to_datetime(df[\"Date_Commande\"]).dt.to_period(\"W\").dt.start_time\n",
    "df[\"Vente_Totale\"] = df[\"Prix_unitaire\"] * df[\"Quantité\"]\n",
    "\n",
    "ventes_par_semaine = df.groupby(\"Semaine\")[\"Vente_Totale\"].sum()\n",
    "\n",
    "plt.figure(figsize=(10,5))\n",
    "ventes_par_semaine.plot(marker='o')\n",
    "plt.title(\"Évolution des ventes par semaine\")\n",
    "plt.xlabel(\"Semaine\")\n",
    "plt.ylabel(\"Chiffre d'affaires (DA)\")\n",
    "plt.grid(True)\n",
    "plt.xticks(rotation=45)\n",
    "plt.tight_layout()\n",
    "plt.show()\n",
    "\n"
   ]
  },
  {
   "cell_type": "code",
   "execution_count": 47,
   "id": "0d104a1f-bbf9-4ce9-8404-c4701f61a469",
   "metadata": {},
   "outputs": [
    {
     "data": {
      "image/png": "[encoded data removed]",
      "text/plain": [
       "<Figure size 600x600 with 1 Axes>"
      ]
     },
     "metadata": {},
     "output_type": "display_data"
    }
   ],
   "source": [
    "statuts = df[\"Statut_Livraison\"].value_counts()\n",
    "\n",
    "plt.figure(figsize=(6,6))\n",
    "plt.pie(statuts, labels=statuts.index, autopct='%1.1f%%', colors=[\"lightgreen\", \"lightcoral\"])\n",
    "plt.title(\"Répartition des statuts de livraison\")\n",
    "plt.axis(\"equal\")\n",
    "plt.show()\n"
   ]
  },
  {
   "cell_type": "code",
   "execution_count": 59,
   "id": "62a46a74-5b77-4eb6-8a18-85d0d3a105e8",
   "metadata": {},
   "outputs": [
    {
     "name": "stdout",
     "output_type": "stream",
     "text": [
      "Classement des produits par chiffre d'affaires :\n",
      "Produit\n",
      "Batterie      130439\n",
      "Lampe         124445\n",
      "Smartphone    111212\n",
      "Montre        107192\n",
      "Sac            67837\n",
      "Casque         67464\n",
      "Chaussures     66482\n",
      "Ordinateur     61266\n",
      "Livre          35280\n",
      "T-shirt        18396\n",
      "Name: Vente_Totale, dtype: int64\n"
     ]
    }
   ],
   "source": [
    "df[\"Vente_Totale\"] = df[\"Prix_unitaire\"] * df[\"Quantité\"]\n",
    "top_produits_ca = df.groupby(\"Produit\")[\"Vente_Totale\"].sum().sort_values(ascending=False)\n",
    "print(\"Classement des produits par chiffre d'affaires :\")\n",
    "print(top_produits_ca)\n"
   ]
  },
  {
   "cell_type": "code",
   "execution_count": null,
   "id": "f0f7d22c-6cd6-4037-a95b-a7889917716a",
   "metadata": {},
   "outputs": [],
   "source": []
  }
 ],
 "metadata": {
  "kernelspec": {
   "display_name": "Python [conda env:base] *",
   "language": "python",
   "name": "conda-base-py"
  },
  "language_info": {
   "codemirror_mode": {
    "name": "ipython",
    "version": 3
   },
   "file_extension": ".py",
   "mimetype": "text/x-python",
   "name": "python",
   "nbconvert_exporter": "python",
   "pygments_lexer": "ipython3",
   "version": "3.12.7"
  }
 },
 "nbformat": 4,
 "nbformat_minor": 5
}
